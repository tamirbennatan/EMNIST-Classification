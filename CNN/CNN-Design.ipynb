{
 "cells": [
  {
   "cell_type": "code",
   "execution_count": 11,
   "metadata": {},
   "outputs": [],
   "source": [
    "import numpy as np\n",
    "import pandas as pd\n",
    "import matplotlib.pyplot as plt\n",
    "import pickle\n",
    "\n",
    "from sklearn.model_selection import train_test_split\n",
    "\n",
    "import keras\n",
    "import keras.backend as K\n",
    "# from keras.preprocessing.image import ImageDataGenerator\n",
    "# from keras.callbacks import LearningRateScheduler, ModelCheckpoint\n",
    "from keras.models import Sequential\n",
    "from keras.layers import Dense, Dropout, Activation, Flatten\n",
    "from keras.layers import Conv2D, MaxPooling2D\n",
    "# from keras.optimizers import SGD, Adam\n"
   ]
  },
  {
   "cell_type": "markdown",
   "metadata": {},
   "source": [
    "# CNN Design\n",
    "\n",
    "Here, I'll create a couple different variants of the classic LeNet CNN archetecture for the purpose of the EMNIST digit classification problem. \n",
    "\n",
    "I'll also include image purturbation and data augmentations methods, such as random rotations and shear. "
   ]
  },
  {
   "cell_type": "markdown",
   "metadata": {},
   "source": [
    "## 0. Load Data:\n",
    "\n",
    "(pass)"
   ]
  },
  {
   "cell_type": "markdown",
   "metadata": {},
   "source": [
    "## 1. Creating training/validation splits\n",
    "\n",
    "(pass)"
   ]
  },
  {
   "cell_type": "markdown",
   "metadata": {},
   "source": [
    "## 2. Several CNN archetectures\n",
    "\n",
    "Here, I'll create several CNN archetectures, of varying depths. "
   ]
  },
  {
   "cell_type": "code",
   "execution_count": 14,
   "metadata": {},
   "outputs": [],
   "source": [
    "def model_3conv(height, width, depth, stride = 3, pool_size = 2):\n",
    "    \"\"\"\n",
    "    CNN Keras model with 3 convolutions.\n",
    "    \n",
    "    parameters:\n",
    "        - height,width,depth: Shape of each image\n",
    "        - stride: stride size\n",
    "        \n",
    "    return: \n",
    "        - A Keras `Sequential` model with an RMS-prop optimizer.\n",
    "    \"\"\"\n",
    "    # set the input shape\n",
    "    if K.image_data_format() == \"channels_first\":\n",
    "        input_shape = (depth, height, width)\n",
    "    else:\n",
    "        input_shape = (height,width,depth)\n",
    "            \n",
    "    model = Sequential()\n",
    "    model.add(Conv2D(8, (stride, stride), padding='same', input_shape=input_shape))\n",
    "    model.add(Activation('relu'))\n",
    "    model.add(Conv2D(8, (stride, stride)))\n",
    "    model.add(Activation('relu'))\n",
    "    model.add(MaxPooling2D(pool_size=(pool_size, pool_size)))\n",
    "    model.add(Dropout(0.25))\n",
    "    \n",
    "    model.add(Conv2D(16, (stride, stride), padding='same'))\n",
    "    model.add(Activation('relu'))\n",
    "    model.add(MaxPooling2D(pool_size=(pool_size, pool_size)))\n",
    "    model.add(Dropout(0.25))\n",
    "    \n",
    "    model.add(Flatten())\n",
    "    model.add(Dense(64))\n",
    "    model.add(Activation('relu'))\n",
    "    model.add(Dropout(0.5))\n",
    "    model.add(Dense(10))\n",
    "    model.add(Activation('softmax'))\n",
    "    opt = keras.optimizers.rmsprop(lr=0.0001, decay=1e-6)\n",
    "    return model, opt"
   ]
  },
  {
   "cell_type": "code",
   "execution_count": 16,
   "metadata": {},
   "outputs": [],
   "source": [
    "def model_4conv(height, width, depth, stride = 3, pool_size = 2):\n",
    "    \"\"\"\n",
    "    CNN Keras model with 4 convolutions.\n",
    "    \n",
    "    parameters:\n",
    "        - height,width,depth: Shape of each image\n",
    "        - stride: stride size\n",
    "        \n",
    "    return: \n",
    "        - A Keras `Sequential` model with an RMS-prop optimizer.\n",
    "    \"\"\"\n",
    "    # set the input shape\n",
    "    if K.image_data_format() == \"channels_first\":\n",
    "        input_shape = (depth, height, width)\n",
    "    else:\n",
    "        input_shape = (height,width,depth)\n",
    "            \n",
    "    model = Sequential()\n",
    "    model.add(Conv2D(8, (stride, stride), padding='same', input_shape=input_shape))\n",
    "    model.add(Activation('relu'))\n",
    "    model.add(Conv2D(8, (stride, stride)))\n",
    "    model.add(Activation('relu'))\n",
    "    model.add(MaxPooling2D(pool_size=(pool_size, pool_size)))\n",
    "    model.add(Dropout(0.25))\n",
    "    \n",
    "    model.add(Conv2D(16, (stride, stride), padding='same'))\n",
    "    model.add(Activation('relu'))\n",
    "    model.add(Conv2D(16, (stride, stride), padding='same'))\n",
    "    model.add(Activation('relu'))\n",
    "    model.add(MaxPooling2D(pool_size=(pool_size, pool_size)))\n",
    "    model.add(Dropout(0.25))\n",
    "    \n",
    "    model.add(Flatten())\n",
    "    model.add(Dense(64))\n",
    "    model.add(Activation('relu'))\n",
    "    model.add(Dropout(0.5))\n",
    "    model.add(Dense(10))\n",
    "    model.add(Activation('softmax'))\n",
    "    opt = keras.optimizers.rmsprop(lr=0.0001, decay=1e-6)\n",
    "    return model, opt"
   ]
  },
  {
   "cell_type": "code",
   "execution_count": null,
   "metadata": {},
   "outputs": [],
   "source": [
    "def model_4conv2(height, width, depth, stride = 5, pool_size = 2):\n",
    "    \"\"\"\n",
    "    Another CNN Keras model with 4 convolutions. \n",
    "    This one, however, emphasizes dimensionality reduction through larger stride length, \n",
    "    and fewer pooling layers\n",
    "    \n",
    "    parameters:\n",
    "        - height,width,depth: Shape of each image\n",
    "        - stride: stride size\n",
    "        \n",
    "    return: \n",
    "        - A Keras `Sequential` model with an RMS-prop optimizer.\n",
    "    \"\"\"\n",
    "    # set the input shape\n",
    "    if K.image_data_format() == \"channels_first\":\n",
    "        input_shape = (depth, height, width)\n",
    "    else:\n",
    "        input_shape = (height,width,depth)\n",
    "            \n",
    "    model = Sequential()\n",
    "    model.add(Conv2D(8, (stride, stride), padding='same', input_shape=input_shape))\n",
    "    model.add(Activation('relu'))\n",
    "    model.add(Conv2D(8, (stride, stride)))\n",
    "    model.add(Activation('relu'))\n",
    "#     model.add(MaxPooling2D(pool_size=(pool_size, pool_size)))\n",
    "#     model.add(Dropout(0.25))\n",
    "    \n",
    "    model.add(Conv2D(16, (stride, stride), padding='same'))\n",
    "    model.add(Activation('relu'))\n",
    "    model.add(Conv2D(16, (stride, stride), padding='same'))\n",
    "    model.add(Activation('relu'))\n",
    "    \n",
    "    model.add(MaxPooling2D(pool_size=(pool_size, pool_size)))\n",
    "    model.add(Dropout(0.25))\n",
    "    \n",
    "    model.add(Flatten())\n",
    "    model.add(Dense(64))\n",
    "    model.add(Activation('relu'))\n",
    "    model.add(Dropout(0.5))\n",
    "    model.add(Dense(10))\n",
    "    model.add(Activation('softmax'))\n",
    "    opt = keras.optimizers.rmsprop(lr=0.0001, decay=1e-6)\n",
    "    return model, opt"
   ]
  },
  {
   "cell_type": "code",
   "execution_count": null,
   "metadata": {},
   "outputs": [],
   "source": []
  },
  {
   "cell_type": "code",
   "execution_count": null,
   "metadata": {},
   "outputs": [],
   "source": []
  },
  {
   "cell_type": "code",
   "execution_count": null,
   "metadata": {},
   "outputs": [],
   "source": []
  },
  {
   "cell_type": "code",
   "execution_count": null,
   "metadata": {},
   "outputs": [],
   "source": []
  },
  {
   "cell_type": "code",
   "execution_count": null,
   "metadata": {},
   "outputs": [],
   "source": []
  },
  {
   "cell_type": "code",
   "execution_count": null,
   "metadata": {},
   "outputs": [],
   "source": []
  },
  {
   "cell_type": "code",
   "execution_count": null,
   "metadata": {},
   "outputs": [],
   "source": []
  }
 ],
 "metadata": {
  "kernelspec": {
   "display_name": "Python 3",
   "language": "python",
   "name": "python3"
  },
  "language_info": {
   "codemirror_mode": {
    "name": "ipython",
    "version": 3
   },
   "file_extension": ".py",
   "mimetype": "text/x-python",
   "name": "python",
   "nbconvert_exporter": "python",
   "pygments_lexer": "ipython3",
   "version": "3.6.4"
  }
 },
 "nbformat": 4,
 "nbformat_minor": 2
}
