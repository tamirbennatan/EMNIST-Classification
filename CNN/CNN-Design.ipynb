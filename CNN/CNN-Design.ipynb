{
 "cells": [
  {
   "cell_type": "code",
   "execution_count": 2,
   "metadata": {},
   "outputs": [
    {
     "name": "stderr",
     "output_type": "stream",
     "text": [
      "/usr/local/lib/python3.6/site-packages/h5py/__init__.py:36: FutureWarning: Conversion of the second argument of issubdtype from `float` to `np.floating` is deprecated. In future, it will be treated as `np.float64 == np.dtype(float).type`.\n",
      "  from ._conv import register_converters as _register_converters\n",
      "Using TensorFlow backend.\n"
     ]
    }
   ],
   "source": [
    "import numpy as np\n",
    "import pandas as pd\n",
    "import matplotlib.pyplot as plt\n",
    "import pickle\n",
    "\n",
    "import matplotlib.pyplot as plt\n",
    "%matplotlib inline\n",
    "\n",
    "from sklearn.model_selection import train_test_split\n",
    "from sklearn.preprocessing import LabelEncoder\n",
    "\n",
    "from PIL import Image\n",
    "\n",
    "import keras\n",
    "import keras.backend as K\n",
    "# from keras.preprocessing.image import ImageDataGenerator\n",
    "# from keras.callbacks import LearningRateScheduler, ModelCheckpoint\n",
    "from keras.models import Sequential\n",
    "from keras.layers import Dense, Dropout, Activation, Flatten\n",
    "from keras.layers import Conv2D, MaxPooling2D\n",
    "from keras.preprocessing.image import ImageDataGenerator, array_to_img, img_to_array, load_img\n",
    "from keras.utils import plot_model, to_categorical\n",
    "\n",
    "from keras.callbacks import EarlyStopping, ModelCheckpoint\n",
    "\n",
    "import time\n",
    "import os\n",
    "\n",
    "import pickle\n",
    "\n"
   ]
  },
  {
   "cell_type": "markdown",
   "metadata": {},
   "source": [
    "# CNN Design\n",
    "\n",
    "Here, I'll create a couple different variants of the classic LeNet CNN archetecture for the purpose of the EMNIST digit classification problem. \n",
    "\n",
    "I'll also include image purturbation and data augmentations methods, such as random rotations and shear. "
   ]
  },
  {
   "cell_type": "markdown",
   "metadata": {},
   "source": [
    "## 0. Load Data:\n"
   ]
  },
  {
   "cell_type": "code",
   "execution_count": 2,
   "metadata": {},
   "outputs": [],
   "source": [
    "# training set\n",
    "with open(\"../data/preproccessed/basic/X_train.npy\", \"rb\") as handle:\n",
    "    X = np.load(handle)"
   ]
  },
  {
   "cell_type": "code",
   "execution_count": 3,
   "metadata": {},
   "outputs": [],
   "source": [
    "# test set\n",
    "with open(\"../data/preproccessed/basic/X_test.npy\", \"rb\") as handle:\n",
    "    X_test = np.load(handle)"
   ]
  },
  {
   "cell_type": "code",
   "execution_count": 4,
   "metadata": {},
   "outputs": [],
   "source": [
    "# Training labels\n",
    "# training set\n",
    "with open(\"../data/preproccessed/basic/y_train.npy\", \"rb\") as handle:\n",
    "    y = np.load(handle)"
   ]
  },
  {
   "cell_type": "code",
   "execution_count": 5,
   "metadata": {},
   "outputs": [
    {
     "name": "stdout",
     "output_type": "stream",
     "text": [
      "(50000, 28, 28)\n",
      "(50000, 1)\n",
      "(10000, 28, 28)\n"
     ]
    }
   ],
   "source": [
    "# sanity check - shapes ok? \n",
    "print(X.shape)\n",
    "print(y.shape)\n",
    "print(X_test.shape)"
   ]
  },
  {
   "cell_type": "code",
   "execution_count": 6,
   "metadata": {},
   "outputs": [
    {
     "name": "stdout",
     "output_type": "stream",
     "text": [
      "Label: 7\n"
     ]
    },
    {
     "data": {
      "image/png": "[encoded data removed]",
      "text/plain": [
       "<Figure size 432x288 with 1 Axes>"
      ]
     },
     "metadata": {},
     "output_type": "display_data"
    }
   ],
   "source": [
    "# Did the data get currupted?\n",
    "plt.imshow(X[1])\n",
    "print(\"Label: %d\" % y[1])"
   ]
  },
  {
   "cell_type": "markdown",
   "metadata": {},
   "source": [
    "## 1. Creating training/validation splits\n",
    "\n",
    "This should be done consistently. Throughout this project (across all classifiers), we will use the random state `1`. \n",
    "\n",
    "We will use an 80:20 split for the training:validation split. "
   ]
  },
  {
   "cell_type": "code",
   "execution_count": 7,
   "metadata": {},
   "outputs": [],
   "source": [
    "X_train, X_valid, y_train, y_valid = train_test_split(\n",
    "    X, y, test_size=0.2, random_state=1)"
   ]
  },
  {
   "cell_type": "code",
   "execution_count": 8,
   "metadata": {},
   "outputs": [
    {
     "name": "stdout",
     "output_type": "stream",
     "text": [
      "(40000, 28, 28)\n",
      "(10000, 28, 28)\n",
      "(40000, 1)\n",
      "(10000, 1)\n"
     ]
    }
   ],
   "source": [
    "# sanity check - shapes look ok? \n",
    "print(X_train.shape)\n",
    "print(X_valid.shape)\n",
    "print(y_train.shape)\n",
    "print(y_valid.shape)"
   ]
  },
  {
   "cell_type": "markdown",
   "metadata": {},
   "source": [
    "## 2. Reshape images (to be 3d)\n",
    "\n",
    "Convnets take in 3D images as input, with the third dimension being the channels. \n",
    "\n",
    "Since we're working with Black and white images (no channels), we can artifically create this second third dimension by setting a depth of one for each image. \n",
    "\n",
    "The way we reshape the image depends on our `Keras` settings. From the docs:\n",
    "\n",
    "```\n",
    "The ordering of the dimensions in the inputs. `channels_last` corresponds to inputs with shape (batch, height, width, channels) while `channels_first` corresponds to inputs with shape (batch, channels, height, width). It defaults to the image_data_format value found in your Keras config file at `~/.keras/keras.json`. If you never set it, then it will be \"channels_last\".\n",
    "```"
   ]
  },
  {
   "cell_type": "code",
   "execution_count": 9,
   "metadata": {},
   "outputs": [],
   "source": [
    "# reshape the ouput vectors, so that they're vectors (not column matrices)\n",
    "y_train = y_train.reshape((y_train.shape[0],))\n",
    "y_valid = y_valid.reshape((y_valid.shape[0],))"
   ]
  },
  {
   "cell_type": "code",
   "execution_count": 10,
   "metadata": {},
   "outputs": [
    {
     "data": {
      "text/plain": [
       "(10000, 28, 28)"
      ]
     },
     "execution_count": 10,
     "metadata": {},
     "output_type": "execute_result"
    }
   ],
   "source": [
    "X_test.shape\n"
   ]
  },
  {
   "cell_type": "code",
   "execution_count": 11,
   "metadata": {},
   "outputs": [],
   "source": [
    "# isolate training, validation and testing shapes, currently\n",
    "trainshape, validshape, testshape = X_train.shape, X_valid.shape, X_test.shape\n",
    "# Reshape the X's, according to our channel setting. \n",
    "if K.image_data_format() == \"channels_last\":\n",
    "    X_train = X_train.reshape((trainshape[0],trainshape[1],trainshape[2], 1))\n",
    "    X_valid = X_valid.reshape((validshape[0],validshape[1],validshape[2], 1))\n",
    "    X_test = X_test.reshape((testshape[0],testshape[1],testshape[2], 1))\n",
    "else:\n",
    "    X_train = X_train.reshape((trainshape[0],1,trainshape[1],trainshape[2]))\n",
    "    X_valid = X_valid.reshape((validshape[0],1,validshape[1],validshape[2]))\n",
    "    X_test = X_test.reshape((testshape[0],1,testshape[1],testshape[2]))"
   ]
  },
  {
   "cell_type": "code",
   "execution_count": 12,
   "metadata": {},
   "outputs": [
    {
     "data": {
      "text/plain": [
       "'channels_last'"
      ]
     },
     "execution_count": 12,
     "metadata": {},
     "output_type": "execute_result"
    }
   ],
   "source": [
    "K.image_data_format()"
   ]
  },
  {
   "cell_type": "code",
   "execution_count": 13,
   "metadata": {},
   "outputs": [
    {
     "name": "stdout",
     "output_type": "stream",
     "text": [
      "(40000, 28, 28, 1)\n",
      "(10000, 28, 28, 1)\n",
      "(10000, 28, 28, 1)\n",
      "(40000,)\n",
      "(10000,)\n"
     ]
    }
   ],
   "source": [
    "# sanity check - shapes look ok? \n",
    "print(X_train.shape)\n",
    "print(X_valid.shape)\n",
    "print(X_test.shape)\n",
    "print(y_train.shape)\n",
    "print(y_valid.shape)"
   ]
  },
  {
   "cell_type": "markdown",
   "metadata": {},
   "source": [
    "## 3. Several CNN architectures\n",
    "\n",
    "Here, I'll create several CNN archetectures, of varying depths. "
   ]
  },
  {
   "cell_type": "code",
   "execution_count": 14,
   "metadata": {},
   "outputs": [],
   "source": [
    "def model_3conv(height, width, depth, stride = 3, pool_size = 2):\n",
    "    \"\"\"\n",
    "    CNN Keras model with 3 convolutions.\n",
    "    \n",
    "    parameters:\n",
    "        - height: Shape of each image\n",
    "        - stride: stride size\n",
    "        \n",
    "    return: \n",
    "        - A Keras `Sequential` model with an RMS-prop optimizer.\n",
    "    \"\"\"\n",
    "    # set the input shape\n",
    "    if K.image_data_format() == \"channels_first\":\n",
    "        input_shape = (depth, height, width)\n",
    "    else:\n",
    "        input_shape = (height,width,depth)\n",
    "            \n",
    "    model = Sequential()\n",
    "    model.add(Conv2D(8, (stride, stride), padding='same', input_shape=input_shape))\n",
    "    model.add(Activation('relu'))\n",
    "    model.add(Conv2D(8, (stride, stride)))\n",
    "    model.add(Activation('relu'))\n",
    "    model.add(MaxPooling2D(pool_size=(pool_size, pool_size)))\n",
    "    model.add(Dropout(0.25))\n",
    "    \n",
    "    model.add(Conv2D(16, (stride, stride), padding='same'))\n",
    "    model.add(Activation('relu'))\n",
    "    model.add(MaxPooling2D(pool_size=(pool_size, pool_size)))\n",
    "    model.add(Dropout(0.25))\n",
    "    \n",
    "    model.add(Flatten())\n",
    "    model.add(Dense(128))\n",
    "    model.add(Activation('relu'))\n",
    "    model.add(Dropout(0.5))\n",
    "    model.add(Dense(10))\n",
    "    model.add(Activation('softmax'))\n",
    "    opt = keras.optimizers.rmsprop(lr=0.0001, decay=1e-6)\n",
    "    return model, opt"
   ]
  },
  {
   "cell_type": "code",
   "execution_count": 15,
   "metadata": {},
   "outputs": [],
   "source": [
    "def model_4conv(height, width, depth, stride = 3, pool_size = 2):\n",
    "    \"\"\"\n",
    "    CNN Keras model with 4 convolutions.\n",
    "    \n",
    "    parameters:\n",
    "        - height,width,depth: Shape of each image\n",
    "        - stride: stride size\n",
    "        \n",
    "    return: \n",
    "        - A Keras `Sequential` model with an RMS-prop optimizer.\n",
    "    \"\"\"\n",
    "    # set the input shape\n",
    "    if K.image_data_format() == \"channels_first\":\n",
    "        input_shape = (depth, height, width)\n",
    "    else:\n",
    "        input_shape = (height,width,depth)\n",
    "            \n",
    "    model = Sequential()\n",
    "    model.add(Conv2D(8, (stride, stride), padding='same', input_shape=input_shape))\n",
    "    model.add(Activation('relu'))\n",
    "    model.add(Conv2D(8, (stride, stride)))\n",
    "    model.add(Activation('relu'))\n",
    "    model.add(MaxPooling2D(pool_size=(pool_size, pool_size)))\n",
    "    model.add(Dropout(0.25))\n",
    "    \n",
    "    model.add(Conv2D(16, (stride, stride), padding='same'))\n",
    "    model.add(Activation('relu'))\n",
    "    model.add(Conv2D(16, (stride, stride), padding='same'))\n",
    "    model.add(Activation('relu'))\n",
    "    model.add(MaxPooling2D(pool_size=(pool_size, pool_size)))\n",
    "    model.add(Dropout(0.25))\n",
    "    \n",
    "    model.add(Flatten())\n",
    "    model.add(Dense(128))\n",
    "    model.add(Activation('relu'))\n",
    "    model.add(Dropout(0.5))\n",
    "    model.add(Dense(10))\n",
    "    model.add(Activation('softmax'))\n",
    "    opt = keras.optimizers.rmsprop(lr=0.0001, decay=1e-6)\n",
    "    return model, opt"
   ]
  },
  {
   "cell_type": "code",
   "execution_count": 16,
   "metadata": {},
   "outputs": [],
   "source": [
    "def model_4conv2(height, width, depth, stride = 5, pool_size = 2):\n",
    "    \"\"\"\n",
    "    Another CNN Keras model with 4 convolutions. \n",
    "    This one, however, emphasizes dimensionality reduction through larger stride length, \n",
    "    and fewer pooling layers\n",
    "    \n",
    "    parameters:\n",
    "        - height,width,depth: Shape of each image\n",
    "        - stride: stride size\n",
    "        \n",
    "    return: \n",
    "        - A Keras `Sequential` model with an RMS-prop optimizer.\n",
    "    \"\"\"\n",
    "    # set the input shape\n",
    "    if K.image_data_format() == \"channels_first\":\n",
    "        input_shape = (depth, height, width)\n",
    "    else:\n",
    "        input_shape = (height,width,depth)\n",
    "            \n",
    "    model = Sequential()\n",
    "    model.add(Conv2D(8, (stride, stride), padding='same', input_shape=input_shape))\n",
    "    model.add(Activation('relu'))\n",
    "    model.add(Conv2D(8, (stride, stride)))\n",
    "    model.add(Activation('relu'))\n",
    "#     model.add(MaxPooling2D(pool_size=(pool_size, pool_size)))\n",
    "#     model.add(Dropout(0.25))\n",
    "    \n",
    "    model.add(Conv2D(16, (stride, stride), padding='same'))\n",
    "    model.add(Activation('relu'))\n",
    "    model.add(Conv2D(16, (stride, stride), padding='same'))\n",
    "    model.add(Activation('relu'))\n",
    "    \n",
    "    model.add(MaxPooling2D(pool_size=(pool_size, pool_size)))\n",
    "    model.add(Dropout(0.25))\n",
    "    \n",
    "    model.add(Flatten())\n",
    "    model.add(Dense(128))\n",
    "    model.add(Activation('relu'))\n",
    "    model.add(Dropout(0.5))\n",
    "    model.add(Dense(10))\n",
    "    model.add(Activation('softmax'))\n",
    "    opt = keras.optimizers.rmsprop(lr=0.0001, decay=1e-6)\n",
    "    return model, opt"
   ]
  },
  {
   "cell_type": "code",
   "execution_count": 39,
   "metadata": {},
   "outputs": [],
   "source": [
    "def model_6conv(height, width, depth, stride = 3, pool_size = 2):\n",
    "    \"\"\"\n",
    "    CNN Keras model with 6 convolutions.\n",
    "    \n",
    "    parameters:\n",
    "        - height,width,depth: Shape of each image\n",
    "        - stride: stride size\n",
    "        \n",
    "    return: \n",
    "        - A Keras `Sequential` model with an RMS-prop optimizer.\n",
    "    \"\"\"\n",
    "    # set the input shape\n",
    "    if K.image_data_format() == \"channels_first\":\n",
    "        input_shape = (depth, height, width)\n",
    "    else:\n",
    "        input_shape = (height,width,depth)\n",
    "            \n",
    "    model = Sequential()\n",
    "    model.add(Conv2D(8, (stride, stride), padding='same', input_shape=input_shape))\n",
    "    model.add(Activation('relu'))\n",
    "    model.add(Conv2D(8, (stride, stride)))\n",
    "    model.add(Activation('relu'))\n",
    "    model.add(MaxPooling2D(pool_size=(pool_size, pool_size)))\n",
    "    model.add(Dropout(0.25))\n",
    "    \n",
    "    model.add(Conv2D(16, (stride, stride), padding='same'))\n",
    "    model.add(Activation('relu'))\n",
    "    model.add(Conv2D(16, (stride, stride), padding='same'))\n",
    "    model.add(Activation('relu'))\n",
    "    model.add(MaxPooling2D(pool_size=(pool_size, pool_size)))\n",
    "    model.add(Dropout(0.25))\n",
    "    \n",
    "    model.add(Conv2D(32, (stride, stride), padding='same'))\n",
    "    model.add(Activation('relu'))\n",
    "    model.add(Conv2D(32, (stride, stride), padding='same'))\n",
    "    model.add(Activation('relu'))\n",
    "    model.add(MaxPooling2D(pool_size=(pool_size, pool_size)))\n",
    "    model.add(Dropout(0.25))\n",
    "    \n",
    "    model.add(Flatten())\n",
    "    model.add(Dense(256))\n",
    "    model.add(Activation('relu'))\n",
    "    model.add(Dropout(0.5))\n",
    "    model.add(Dense(10))\n",
    "    model.add(Activation('softmax'))\n",
    "    opt = keras.optimizers.rmsprop(lr=0.0001, decay=1e-6)\n",
    "    return model, opt"
   ]
  },
  {
   "cell_type": "markdown",
   "metadata": {},
   "source": [
    "## 4. Image augmentation\n",
    "\n",
    "The EMNIST dataset was created by taking the MNIST dataset, and applying a series of random rotations and zooms. \n",
    "\n",
    "By extracting the largest digit from each image, each of our images should be the same size. They are, however, rotate. \n",
    "\n",
    "To account for this, we will augment our original dataset by applying a series of random rotations/shears to each digit. This will help increase the robustness to distortions, and should help combat overfitting. "
   ]
  },
  {
   "cell_type": "code",
   "execution_count": 18,
   "metadata": {},
   "outputs": [],
   "source": [
    "# construct the image generator for data augmentation\n",
    "img_gen = ImageDataGenerator(\n",
    "            featurewise_center=False,  # set input mean to 0 over the dataset\n",
    "            samplewise_center=False,  # set each sample mean to 0\n",
    "            featurewise_std_normalization=False,  # divide inputs by std of the dataset\n",
    "            samplewise_std_normalization=False,  # divide each input by its std\n",
    "            zca_whitening=False,  # apply ZCA whitening\n",
    "            rotation_range=30,  # randomly rotate images in the range (degrees, 0 to 180)\n",
    "            horizontal_flip=False,  # randomly flip images\n",
    "            vertical_flip=False)"
   ]
  },
  {
   "cell_type": "markdown",
   "metadata": {},
   "source": [
    "We must fit the generator to our data\n"
   ]
  },
  {
   "cell_type": "code",
   "execution_count": 19,
   "metadata": {},
   "outputs": [],
   "source": [
    "img_gen.fit(X_train)"
   ]
  },
  {
   "cell_type": "markdown",
   "metadata": {},
   "source": [
    "For example, take the following digit:"
   ]
  },
  {
   "cell_type": "code",
   "execution_count": 20,
   "metadata": {},
   "outputs": [
    {
     "data": {
      "text/plain": [
       "<matplotlib.image.AxesImage at 0x11c69cda0>"
      ]
     },
     "execution_count": 20,
     "metadata": {},
     "output_type": "execute_result"
    },
    {
     "data": {
      "image/png": "[encoded data removed]",
      "text/plain": [
       "<Figure size 432x288 with 1 Axes>"
      ]
     },
     "metadata": {},
     "output_type": "display_data"
    }
   ],
   "source": [
    "plt.imshow(X_train[0].reshape((28,28)))"
   ]
  },
  {
   "cell_type": "markdown",
   "metadata": {},
   "source": [
    "Here, we I create 21 purturpations of this original image"
   ]
  },
  {
   "cell_type": "code",
   "execution_count": 21,
   "metadata": {},
   "outputs": [],
   "source": [
    "# a function for stiching a bunch of square images together\n",
    "def gallery(array, ncols=3):\n",
    "    nindex, height, width = array.shape\n",
    "    nrows = nindex//ncols\n",
    "    assert nindex == nrows*ncols\n",
    "    # want result.shape = (height*nrows, width*ncols)\n",
    "    result = (array.reshape(nrows, ncols, height, width)\n",
    "              .swapaxes(1,2)\n",
    "              .reshape(height*nrows, width*ncols))\n",
    "    return result"
   ]
  },
  {
   "cell_type": "code",
   "execution_count": 22,
   "metadata": {},
   "outputs": [],
   "source": [
    "distorted = np.empty(shape = (0,28,28), dtype = \"uint8\")\n",
    "i = 0\n",
    "for batch in img_gen.flow(X_train[[0]], batch_size=1,):\n",
    "    i += 1\n",
    "    pd\n",
    "    distorted = np.append(distorted, batch.reshape((28,28)).astype(\"uint8\"))\n",
    "    if i > 20:\n",
    "        break\n",
    "distorted = distorted.reshape((21,28,28))"
   ]
  },
  {
   "cell_type": "code",
   "execution_count": 23,
   "metadata": {},
   "outputs": [
    {
     "data": {
      "text/plain": [
       "<matplotlib.image.AxesImage at 0x12dc02d68>"
      ]
     },
     "execution_count": 23,
     "metadata": {},
     "output_type": "execute_result"
    },
    {
     "data": {
      "image/png": "[encoded data removed]",
      "text/plain": [
       "<Figure size 432x288 with 1 Axes>"
      ]
     },
     "metadata": {},
     "output_type": "display_data"
    }
   ],
   "source": [
    "plt.imshow(gallery(distorted, ncols = 7))"
   ]
  },
  {
   "cell_type": "markdown",
   "metadata": {},
   "source": [
    "From one image, we get 21, which are different enough that we can learn new interesting features from them. "
   ]
  },
  {
   "cell_type": "markdown",
   "metadata": {},
   "source": [
    "## 5. Prepare for training:"
   ]
  },
  {
   "cell_type": "markdown",
   "metadata": {},
   "source": [
    "First, with our simplest model - three convolutional layers. Initializing this model"
   ]
  },
  {
   "cell_type": "code",
   "execution_count": 24,
   "metadata": {},
   "outputs": [],
   "source": [
    "model, opt = model_3conv(height = 28, width = 28, depth = 1)"
   ]
  },
  {
   "cell_type": "code",
   "execution_count": 25,
   "metadata": {},
   "outputs": [
    {
     "name": "stdout",
     "output_type": "stream",
     "text": [
      "_________________________________________________________________\n",
      "Layer (type)                 Output Shape              Param #   \n",
      "=================================================================\n",
      "conv2d_1 (Conv2D)            (None, 28, 28, 8)         80        \n",
      "_________________________________________________________________\n",
      "activation_1 (Activation)    (None, 28, 28, 8)         0         \n",
      "_________________________________________________________________\n",
      "conv2d_2 (Conv2D)            (None, 26, 26, 8)         584       \n",
      "_________________________________________________________________\n",
      "activation_2 (Activation)    (None, 26, 26, 8)         0         \n",
      "_________________________________________________________________\n",
      "max_pooling2d_1 (MaxPooling2 (None, 13, 13, 8)         0         \n",
      "_________________________________________________________________\n",
      "dropout_1 (Dropout)          (None, 13, 13, 8)         0         \n",
      "_________________________________________________________________\n",
      "conv2d_3 (Conv2D)            (None, 13, 13, 16)        1168      \n",
      "_________________________________________________________________\n",
      "activation_3 (Activation)    (None, 13, 13, 16)        0         \n",
      "_________________________________________________________________\n",
      "max_pooling2d_2 (MaxPooling2 (None, 6, 6, 16)          0         \n",
      "_________________________________________________________________\n",
      "dropout_2 (Dropout)          (None, 6, 6, 16)          0         \n",
      "_________________________________________________________________\n",
      "flatten_1 (Flatten)          (None, 576)               0         \n",
      "_________________________________________________________________\n",
      "dense_1 (Dense)              (None, 128)               73856     \n",
      "_________________________________________________________________\n",
      "activation_4 (Activation)    (None, 128)               0         \n",
      "_________________________________________________________________\n",
      "dropout_3 (Dropout)          (None, 128)               0         \n",
      "_________________________________________________________________\n",
      "dense_2 (Dense)              (None, 10)                1290      \n",
      "_________________________________________________________________\n",
      "activation_5 (Activation)    (None, 10)                0         \n",
      "=================================================================\n",
      "Total params: 76,978\n",
      "Trainable params: 76,978\n",
      "Non-trainable params: 0\n",
      "_________________________________________________________________\n"
     ]
    }
   ],
   "source": [
    "model.summary()"
   ]
  },
  {
   "cell_type": "code",
   "execution_count": 26,
   "metadata": {},
   "outputs": [],
   "source": [
    "# compile the model\n",
    "model.compile(loss='categorical_crossentropy',\n",
    "                      optimizer= opt,\n",
    "                      metrics=['accuracy'])"
   ]
  },
  {
   "cell_type": "code",
   "execution_count": 27,
   "metadata": {},
   "outputs": [],
   "source": [
    "plot_model(model, \"images/baseline.png\")"
   ]
  },
  {
   "cell_type": "markdown",
   "metadata": {},
   "source": [
    "![](images/baseline.png)"
   ]
  },
  {
   "cell_type": "markdown",
   "metadata": {},
   "source": [
    "Currently, the labels are ingegers. We need functions to convert them to/from one-hot encodings"
   ]
  },
  {
   "cell_type": "code",
   "execution_count": 28,
   "metadata": {},
   "outputs": [],
   "source": [
    "# train an encoder to convert labels to integer labels, one-hot encodings, and back\n",
    "encoder = LabelEncoder().fit(y.reshape((y.shape[0],)))\n",
    "\n",
    "def encode_onehot(lab):\n",
    "    return to_categorical(encoder.transform(lab))\n",
    "\n",
    "def decode_onehot(lab):\n",
    "    return encoder.inverse_transform(np.argmax(lab, axis = 1))"
   ]
  },
  {
   "cell_type": "markdown",
   "metadata": {},
   "source": [
    "Finally, I'll create checkpoints to allow for early stopping, and saving of the best model. "
   ]
  },
  {
   "cell_type": "code",
   "execution_count": 37,
   "metadata": {},
   "outputs": [],
   "source": [
    "if not os.path.isdir(\"models\"):\n",
    "    os.makedirs(\"models\")"
   ]
  },
  {
   "cell_type": "code",
   "execution_count": 43,
   "metadata": {},
   "outputs": [],
   "source": [
    "filepath=\"models/weights_3conv_%s.hdf5\" % time.strftime(\"%d%m%Y\")"
   ]
  },
  {
   "cell_type": "code",
   "execution_count": 44,
   "metadata": {},
   "outputs": [],
   "source": [
    "checkpointer = ModelCheckpoint(filepath, monitor='val_acc', verbose=1, save_best_only=True, mode=\"max\")\n",
    "# create an Early Stopping callback\n",
    "early_stopping = EarlyStopping(patience=15)"
   ]
  },
  {
   "cell_type": "markdown",
   "metadata": {},
   "source": [
    "## 6. Train!"
   ]
  },
  {
   "cell_type": "code",
   "execution_count": 6,
   "metadata": {
    "scrolled": false
   },
   "outputs": [],
   "source": [
    "# fit the model, and save the output\n",
    "history = model.fit_generator(img_gen.flow(X_train, encode_onehot(y_train), batch_size=10),\n",
    "        validation_data=(X_valid, encode_onehot(y_valid)), steps_per_epoch=len(X_train),\n",
    "        epochs=1, verbose=1, callbacks = [early_stopping, checkpointer])"
   ]
  },
  {
   "cell_type": "code",
   "execution_count": 64,
   "metadata": {},
   "outputs": [],
   "source": [
    "historyname = \"history_3conv_%s\" % time.strftime(\"%h%d_%H%S\")"
   ]
  },
  {
   "cell_type": "code",
   "execution_count": 62,
   "metadata": {},
   "outputs": [],
   "source": [
    "if not os.path.isdir(\"history\"):\n",
    "    os.makedirs(\"history\")"
   ]
  },
  {
   "cell_type": "code",
   "execution_count": 66,
   "metadata": {},
   "outputs": [],
   "source": [
    "with open(historyname, \"wb\") as handle:\n",
    "    pickle.dump(history.history, handle, protocol = 3)"
   ]
  },
  {
   "cell_type": "code",
   "execution_count": 3,
   "metadata": {},
   "outputs": [
    {
     "data": {
      "text/plain": [
       "3.4809112548828125e-05"
      ]
     },
     "execution_count": 3,
     "metadata": {},
     "output_type": "execute_result"
    }
   ],
   "source": [
    "a = time.time()\n",
    "time.time() -a"
   ]
  }
 ],
 "metadata": {
  "kernelspec": {
   "display_name": "Python 3",
   "language": "python",
   "name": "python3"
  },
  "language_info": {
   "codemirror_mode": {
    "name": "ipython",
    "version": 3
   },
   "file_extension": ".py",
   "mimetype": "text/x-python",
   "name": "python",
   "nbconvert_exporter": "python",
   "pygments_lexer": "ipython3",
   "version": "3.6.4"
  }
 },
 "nbformat": 4,
 "nbformat_minor": 2
}
