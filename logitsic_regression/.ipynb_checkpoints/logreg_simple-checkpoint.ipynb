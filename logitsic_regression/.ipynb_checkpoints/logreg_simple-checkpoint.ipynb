{
 "cells": [
  {
   "cell_type": "code",
   "execution_count": 25,
   "metadata": {},
   "outputs": [],
   "source": [
    "import numpy as np\n",
    "import pandas as pd\n",
    "\n",
    "from sklearn.model_selection import train_test_split\n",
    "from sklearn.linear_model import LogisticRegression\n",
    "\n",
    "from sklearn.model_selection import GridSearchCV\n",
    "from sklearn.metrics import accuracy_score\n"
   ]
  },
  {
   "cell_type": "markdown",
   "metadata": {},
   "source": [
    "## 0. Load Data\n",
    "\n",
    "Here, I'll use the data preprocessed using the \"Largest bouding cricle\" method. "
   ]
  },
  {
   "cell_type": "code",
   "execution_count": 4,
   "metadata": {},
   "outputs": [],
   "source": [
    "X = np.load(\"../data/preproccessed/circle/X_train.npy\")\n",
    "y = np.load(\"../data/preproccessed/circle/y_train.npy\")"
   ]
  },
  {
   "cell_type": "markdown",
   "metadata": {},
   "source": [
    "Right now the picutures are stored as matrices - we can unroll them to vectors to be more friendly with logistic regression"
   ]
  },
  {
   "cell_type": "code",
   "execution_count": 9,
   "metadata": {},
   "outputs": [],
   "source": [
    "X = X.reshape(-1,28*28)"
   ]
  },
  {
   "cell_type": "code",
   "execution_count": 12,
   "metadata": {},
   "outputs": [],
   "source": [
    "y = y.reshape(-1,)"
   ]
  },
  {
   "cell_type": "code",
   "execution_count": 10,
   "metadata": {},
   "outputs": [
    {
     "data": {
      "text/plain": [
       "(50000, 784)"
      ]
     },
     "execution_count": 10,
     "metadata": {},
     "output_type": "execute_result"
    }
   ],
   "source": [
    "X.shape"
   ]
  },
  {
   "cell_type": "code",
   "execution_count": 13,
   "metadata": {},
   "outputs": [
    {
     "data": {
      "text/plain": [
       "(50000,)"
      ]
     },
     "execution_count": 13,
     "metadata": {},
     "output_type": "execute_result"
    }
   ],
   "source": [
    "y.shape"
   ]
  },
  {
   "cell_type": "markdown",
   "metadata": {},
   "source": [
    "Split into training and validation splits:"
   ]
  },
  {
   "cell_type": "code",
   "execution_count": 14,
   "metadata": {},
   "outputs": [],
   "source": [
    "X_train, X_valid, y_train, y_valid = train_test_split(\n",
    "    X, y, test_size=0.2, random_state=1)"
   ]
  },
  {
   "cell_type": "markdown",
   "metadata": {},
   "source": [
    "## 1. Creating a  hyperparameter parameter grid to search through\n",
    "\n",
    "The most important hyperparameter with regularized logistic regression is the regularization coefficient, `C`. I'll also try using l1 and l2 loss"
   ]
  },
  {
   "cell_type": "code",
   "execution_count": 17,
   "metadata": {},
   "outputs": [],
   "source": [
    "grid = {\"penalty\" : [\"l1\", \"l2\"],\n",
    "        \"C\" : [.01 * 3**i for i in range(8)]}"
   ]
  },
  {
   "cell_type": "code",
   "execution_count": 16,
   "metadata": {},
   "outputs": [
    {
     "data": {
      "text/plain": [
       "[0.01, 0.03, 0.09, 0.27, 0.81, 2.43, 7.29, 21.87]"
      ]
     },
     "execution_count": 16,
     "metadata": {},
     "output_type": "execute_result"
    }
   ],
   "source": [
    "[.01 * 3**i for i in range(8)]"
   ]
  },
  {
   "cell_type": "markdown",
   "metadata": {},
   "source": [
    "## 2. Grid search through hyperparameters"
   ]
  },
  {
   "cell_type": "code",
   "execution_count": 18,
   "metadata": {},
   "outputs": [],
   "source": [
    "clf = LogisticRegression(random_state=1)"
   ]
  },
  {
   "cell_type": "code",
   "execution_count": 20,
   "metadata": {},
   "outputs": [],
   "source": [
    "gs = GridSearchCV(clf, grid, n_jobs=-1, verbose=3)"
   ]
  },
  {
   "cell_type": "code",
   "execution_count": 21,
   "metadata": {
    "scrolled": false
   },
   "outputs": [
    {
     "name": "stdout",
     "output_type": "stream",
     "text": [
      "Fitting 3 folds for each of 16 candidates, totalling 48 fits\n",
      "[CV] C=0.01, penalty=l1 ..............................................\n",
      "[CV] C=0.01, penalty=l1 ..............................................\n",
      "[CV] C=0.01, penalty=l1 ..............................................\n",
      "[CV] C=0.01, penalty=l2 ..............................................\n",
      "[CV] ..... C=0.01, penalty=l1, score=0.7302444144549408, total= 2.4min\n",
      "[CV] C=0.01, penalty=l2 ..............................................\n",
      "[CV] ..... C=0.01, penalty=l1, score=0.7249062265566392, total= 2.5min\n",
      "[CV] C=0.01, penalty=l2 ..............................................\n",
      "[CV] ..... C=0.01, penalty=l1, score=0.7368736873687368, total= 2.5min\n",
      "[CV] C=0.03, penalty=l1 ..............................................\n",
      "[CV] ..... C=0.03, penalty=l1, score=0.7303943619733093, total= 3.8min\n",
      "[CV] C=0.03, penalty=l1 ..............................................\n",
      "[CV] ..... C=0.03, penalty=l1, score=0.7358235823582359, total= 3.1min\n",
      "[CV] C=0.03, penalty=l1 ..............................................\n",
      "[CV] ..... C=0.03, penalty=l1, score=0.7231807951987997, total= 3.2min\n",
      "[CV] C=0.03, penalty=l2 ..............................................\n",
      "[CV] ..... C=0.01, penalty=l2, score=0.7210471047104711, total=70.4min\n",
      "[CV] C=0.03, penalty=l2 ..............................................\n",
      "[CV] ..... C=0.01, penalty=l2, score=0.7090022505626407, total=71.5min\n",
      "[CV] C=0.03, penalty=l2 ..............................................\n",
      "[CV] ..... C=0.01, penalty=l2, score=0.7168990853201379, total=74.4min\n",
      "[CV] C=0.09, penalty=l1 ..............................................\n",
      "[CV] ..... C=0.03, penalty=l2, score=0.7168241115609537, total=64.0min\n",
      "[CV] C=0.09, penalty=l1 ..............................................\n",
      "[CV] ..... C=0.09, penalty=l1, score=0.7305443094916779, total= 2.9min\n",
      "[CV] C=0.09, penalty=l1 ..............................................\n",
      "[CV] ..... C=0.09, penalty=l1, score=0.7352985298529853, total= 3.1min\n",
      "[CV] C=0.09, penalty=l2 ..............................................\n",
      "[CV] ..... C=0.09, penalty=l1, score=0.7217554388597149, total= 3.1min\n",
      "[CV] C=0.09, penalty=l2 ..............................................\n",
      "[CV] ..... C=0.03, penalty=l2, score=0.7205970597059705, total=59.6min\n",
      "[CV] C=0.09, penalty=l2 ..............................................\n",
      "[CV] ..... C=0.03, penalty=l2, score=0.7095273818454614, total=64.6min\n",
      "[CV] C=0.27, penalty=l1 ..............................................\n",
      "[CV] ..... C=0.09, penalty=l2, score=0.7205220522052205, total=61.4min\n",
      "[CV] C=0.27, penalty=l1 ..............................................\n",
      "[CV] ..... C=0.27, penalty=l1, score=0.7303943619733093, total= 3.2min\n",
      "[CV] C=0.27, penalty=l1 ..............................................\n",
      "[CV] ..... C=0.09, penalty=l2, score=0.7161493477282951, total=64.4min\n",
      "[CV] C=0.27, penalty=l2 ..............................................\n",
      "[CV] ..... C=0.27, penalty=l1, score=0.7350735073507351, total= 3.1min\n",
      "[CV] C=0.27, penalty=l2 ..............................................\n",
      "[CV] ..... C=0.27, penalty=l1, score=0.7213053263315828, total= 3.1min\n",
      "[CV] C=0.27, penalty=l2 ..............................................\n",
      "[CV] ..... C=0.09, penalty=l2, score=0.7090022505626407, total=61.6min\n",
      "[CV] C=0.81, penalty=l1 ..............................................\n",
      "[CV] ..... C=0.81, penalty=l1, score=0.7303943619733093, total= 3.2min\n",
      "[CV] C=0.81, penalty=l1 ..............................................\n",
      "[CV] ..... C=0.81, penalty=l1, score=0.7355985598559855, total= 3.1min\n",
      "[CV] C=0.81, penalty=l1 ..............................................\n",
      "[CV] ..... C=0.81, penalty=l1, score=0.7210052513128282, total= 3.2min\n",
      "[CV] C=0.81, penalty=l2 ..............................................\n"
     ]
    },
    {
     "name": "stderr",
     "output_type": "stream",
     "text": [
      "[Parallel(n_jobs=-1)]: Done  24 tasks      | elapsed: 203.5min\n"
     ]
    },
    {
     "name": "stdout",
     "output_type": "stream",
     "text": [
      "[CV] ..... C=0.27, penalty=l2, score=0.7214971497149715, total=60.1min\n",
      "[CV] C=0.81, penalty=l2 ..............................................\n",
      "[CV] ...... C=0.27, penalty=l2, score=0.709152288072018, total=60.2min\n",
      "[CV] C=0.81, penalty=l2 ..............................................\n",
      "[CV] ..... C=0.27, penalty=l2, score=0.7174239016344279, total=64.5min\n",
      "[CV] C=2.43, penalty=l1 ..............................................\n",
      "[CV] ..... C=2.43, penalty=l1, score=0.7304693357324936, total= 2.9min\n",
      "[CV] C=2.43, penalty=l1 ..............................................\n",
      "[CV] ..... C=2.43, penalty=l1, score=0.7352985298529853, total= 3.2min\n",
      "[CV] C=2.43, penalty=l1 ..............................................\n",
      "[CV] ..... C=2.43, penalty=l1, score=0.7206301575393849, total= 3.2min\n",
      "[CV] C=2.43, penalty=l2 ..............................................\n",
      "[CV] ..... C=0.81, penalty=l2, score=0.7172739541160594, total=59.6min\n",
      "[CV] C=2.43, penalty=l2 ..............................................\n",
      "[CV] ..... C=0.81, penalty=l2, score=0.7229222922292229, total=58.4min\n",
      "[CV] C=2.43, penalty=l2 ..............................................\n",
      "[CV] ..... C=0.81, penalty=l2, score=0.7090772693173293, total=60.4min\n",
      "[CV] C=7.29, penalty=l1 ..............................................\n",
      "[CV] ...... C=7.29, penalty=l1, score=0.730319388214125, total= 3.2min\n",
      "[CV] C=7.29, penalty=l1 ..............................................\n",
      "[CV] ..... C=7.29, penalty=l1, score=0.7352235223522352, total= 3.4min\n",
      "[CV] C=7.29, penalty=l1 ..............................................\n",
      "[CV] ..... C=7.29, penalty=l1, score=0.7206301575393849, total= 3.3min\n",
      "[CV] C=7.29, penalty=l2 ..............................................\n",
      "[CV] ..... C=2.43, penalty=l2, score=0.7166741640425851, total=61.8min\n",
      "[CV] C=7.29, penalty=l2 ..............................................\n",
      "[CV] ..... C=2.43, penalty=l2, score=0.7082520630157539, total=66.7min\n",
      "[CV] C=7.29, penalty=l2 ..............................................\n",
      "[CV] ..... C=2.43, penalty=l2, score=0.7210471047104711, total=71.9min\n",
      "[CV] C=21.87, penalty=l1 .............................................\n",
      "[CV] .... C=21.87, penalty=l1, score=0.7303943619733093, total= 4.1min\n",
      "[CV] C=21.87, penalty=l1 .............................................\n",
      "[CV] .... C=21.87, penalty=l1, score=0.7350735073507351, total= 4.2min\n",
      "[CV] C=21.87, penalty=l1 .............................................\n",
      "[CV] .... C=21.87, penalty=l1, score=0.7204051012753189, total= 4.1min\n",
      "[CV] C=21.87, penalty=l2 .............................................\n",
      "[CV] ..... C=7.29, penalty=l2, score=0.7169740590793222, total=72.6min\n",
      "[CV] C=21.87, penalty=l2 .............................................\n",
      "[CV] ..... C=7.29, penalty=l2, score=0.7217221722172217, total=75.5min\n",
      "[CV] C=21.87, penalty=l2 .............................................\n",
      "[CV] ..... C=7.29, penalty=l2, score=0.7087021755438859, total=87.3min\n",
      "[CV] .... C=21.87, penalty=l2, score=0.7217971797179717, total=73.2min\n",
      "[CV] .... C=21.87, penalty=l2, score=0.7169740590793222, total=77.0min\n",
      "[CV] .... C=21.87, penalty=l2, score=0.7100525131282821, total=71.1min\n"
     ]
    },
    {
     "name": "stderr",
     "output_type": "stream",
     "text": [
      "[Parallel(n_jobs=-1)]: Done  48 out of  48 | elapsed: 426.4min finished\n"
     ]
    },
    {
     "data": {
      "text/plain": [
       "GridSearchCV(cv=None, error_score='raise',\n",
       "       estimator=LogisticRegression(C=1.0, class_weight=None, dual=False, fit_intercept=True,\n",
       "          intercept_scaling=1, max_iter=100, multi_class='ovr', n_jobs=1,\n",
       "          penalty='l2', random_state=1, solver='liblinear', tol=0.0001,\n",
       "          verbose=0, warm_start=False),\n",
       "       fit_params=None, iid=True, n_jobs=-1,\n",
       "       param_grid={'penalty': ['l1', 'l2'], 'C': [0.01, 0.03, 0.09, 0.27, 0.81, 2.43, 7.29, 21.87]},\n",
       "       pre_dispatch='2*n_jobs', refit=True, return_train_score='warn',\n",
       "       scoring=None, verbose=3)"
      ]
     },
     "execution_count": 21,
     "metadata": {},
     "output_type": "execute_result"
    }
   ],
   "source": [
    "gs.fit(X_train, y_train)"
   ]
  },
  {
   "cell_type": "code",
   "execution_count": 22,
   "metadata": {},
   "outputs": [
    {
     "data": {
      "text/plain": [
       "{'C': 0.01, 'penalty': 'l1'}"
      ]
     },
     "execution_count": 22,
     "metadata": {},
     "output_type": "execute_result"
    }
   ],
   "source": [
    "gs.best_params_"
   ]
  },
  {
   "cell_type": "markdown",
   "metadata": {},
   "source": [
    "Getting the Validation score:"
   ]
  },
  {
   "cell_type": "code",
   "execution_count": 24,
   "metadata": {},
   "outputs": [],
   "source": [
    "best_clf = gs.best_estimator_"
   ]
  },
  {
   "cell_type": "code",
   "execution_count": 26,
   "metadata": {},
   "outputs": [
    {
     "data": {
      "text/plain": [
       "0.7336"
      ]
     },
     "execution_count": 26,
     "metadata": {},
     "output_type": "execute_result"
    }
   ],
   "source": [
    "accuracy_score(best_clf.predict(X_valid), y_valid)"
   ]
  }
 ],
 "metadata": {
  "kernelspec": {
   "display_name": "Python 3",
   "language": "python",
   "name": "python3"
  },
  "language_info": {
   "codemirror_mode": {
    "name": "ipython",
    "version": 3
   },
   "file_extension": ".py",
   "mimetype": "text/x-python",
   "name": "python",
   "nbconvert_exporter": "python",
   "pygments_lexer": "ipython3",
   "version": "3.6.4"
  }
 },
 "nbformat": 4,
 "nbformat_minor": 2
}
